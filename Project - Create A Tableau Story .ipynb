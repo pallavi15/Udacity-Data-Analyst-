{
 "cells": [
  {
   "cell_type": "markdown",
   "metadata": {},
   "source": [
    "# Tableau Visualization - Prosper Loan Analysis\n",
    "## Summary\n",
    "\n",
    "1)About Prosper  - Prosper is America’s first marketplace lending platform, with over $9 billion in funded loans. We can know more here [Prosper Marketplace](https://www.prosper.com/)\n",
    "\n",
    "2)The [data source](https://www.google.com/url?q=https://s3.amazonaws.com/udacity-hosted-downloads/ud651/prosperLoanData.csv&sa=D&ust=1500931308066000&usg=AFQjCNG_hhx5YU04eIH3Iq52Qd9D3UPUYQ) is provided by Prosper. This data set contains 113,937 loans with 81 variables on each loan, including loan amount, borrower rate (or interest rate), current loan status, borrower income, and many others.\n",
    "\n",
    "3)For the Prosper Data, I created the tableau visualization which is availble on Tableau Public as [Prosper Loan Analysis- Initial Version](https://public.tableau.com/views/ProsperLoanAnalysis_1/ProsperLoanAnalysis?:embed=y&:display_count=yes) and [Prosper Loan Analysis - Final Version](https://public.tableau.com/views/ProsperLoanAnalysisV2/ProsperLoanAnalysis?:embed=y&:display_count=yes)\n",
    "\n",
    "4)The Tableau Dashboard and Story show the Listings Analysis, Loan Amount and Estimated Effective Yield, Estimated Return and Estimated Loss, Loan Status does not depend on Annual Income or Credite Score Range. \n",
    "\n",
    "## Design\n",
    "\n",
    "_1)\tDashboard 1 – Prosper Loan Listings_\n",
    "\n",
    "Chart Types – \n",
    "\n",
    "1. Used geographic map to highlight the listings per state\n",
    "\n",
    "2. I noticed that there are some number of listings without borrower’s state details. Used a pie chart as there are only two entities to compare, Listings with borrower’s state details and without. Also created calculated field with groups for those two criteria\n",
    "\n",
    "3. Used simple bar chart to show the borrower who are homeowners or not with year on X-axis. Calculated field- Homeowner\n",
    "\n",
    "4. Created scatter plot with year on X-axis and count of listings on Y-axis. Loan Status on color mark and Loan Amount on size mark.\n",
    "\n",
    "Actions – Filter actions as mentioned on dashboard - Select the State to know the respective data. Select Year from Homeowner to know the Year data. Use Homeowner filter to know the homeowner borrower data. Select Loan Status Bubble to filter data as per Loan Status.\t\n",
    "\n",
    "_2)\tDashboard 2 – Loan Amount and Estimated Effective Yield_\n",
    "\n",
    "Chart Type – \n",
    "\n",
    "1. Sample bar chart with year on X-axis and Loan amount on Y-axis.\n",
    "\n",
    "2. Used Box and whisker plot to highlight the distribution of Estimated Effective Yield.\n",
    "\n",
    "Actions – Used Hover action to filter both graphs with respect to listing categories. Used legends for listing categories.\n",
    "\n",
    "_3)\t Dashboard 3 – Prosper Ratings_\n",
    "\n",
    "Chart Type – \n",
    "\n",
    "1. Used Box and whisker plot to highlight the distribution of Estimated Effective Yield.\n",
    "\n",
    "2. Used duel axis to compare two measures Estimated Return(%) – bar chart and Estimated Loss(%) – line chart.\n",
    "\n",
    "Actions – I always get excited to use great features provided by Tableau, like Layout Container.\n",
    "I have used the vertical layout container to resize the dashboard when the Prosper Rating filter is not in use. If you select the prosper rating on the dashboard the crosstab chart showing Estimated Return(%) and Estimated Loss(%) appears.\n",
    "\n",
    "_4)\tDashboard 4 – Loan Status_\n",
    "\n",
    "Chart Type – \n",
    "\n",
    "1. Used simple circle view chart to show the relationship between Loan Status and Avg Annual Income in accordance with Occupation. Loan status on color mark. Occupation on filter shelf with top 20 Avg Annual Income occupations\n",
    "\n",
    "2.  Used simple circle view chart to show Relationship between Loan Status and Credit Score Range\n",
    "Created calculated field Credit Score Rang from upper and lower credit score. \t\n",
    "\n",
    "## Feedbacks\n",
    "\n",
    "1) Dashboard - Loan Amount and Estimated yield, got the feedback to include the legends for the Listing Categories\n",
    "\n",
    "Action - Added the legends \n",
    "\n",
    "2) Dashboard - Loan Status does not depend upon Avg annual income and credit score range, got the feedback to arrange the Credit Score Range in order (from 2nd graph)\n",
    "\n",
    "Action - Arranged the Credit Score Range as Exceptional, Very Good, Good, Fair, Vary Poor on the X-Axis\n",
    "\n",
    "## Resources \n",
    "To create an effective tableau story and interactive dashboards I refered books like, Tableau Your Data, Tableau Best Practices, Mastering Tableau. "
   ]
  },
  {
   "cell_type": "code",
   "execution_count": null,
   "metadata": {
    "collapsed": true
   },
   "outputs": [],
   "source": []
  }
 ],
 "metadata": {
  "kernelspec": {
   "display_name": "Python [default]",
   "language": "python",
   "name": "python3"
  },
  "language_info": {
   "codemirror_mode": {
    "name": "ipython",
    "version": 3
   },
   "file_extension": ".py",
   "mimetype": "text/x-python",
   "name": "python",
   "nbconvert_exporter": "python",
   "pygments_lexer": "ipython3",
   "version": "3.6.1"
  }
 },
 "nbformat": 4,
 "nbformat_minor": 2
}
